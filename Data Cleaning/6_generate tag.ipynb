{
 "cells": [
  {
   "cell_type": "code",
   "execution_count": 4,
   "metadata": {},
   "outputs": [
    {
     "data": {
      "text/html": [
       "<div>\n",
       "<style scoped>\n",
       "    .dataframe tbody tr th:only-of-type {\n",
       "        vertical-align: middle;\n",
       "    }\n",
       "\n",
       "    .dataframe tbody tr th {\n",
       "        vertical-align: top;\n",
       "    }\n",
       "\n",
       "    .dataframe thead th {\n",
       "        text-align: right;\n",
       "    }\n",
       "</style>\n",
       "<table border=\"1\" class=\"dataframe\">\n",
       "  <thead>\n",
       "    <tr style=\"text-align: right;\">\n",
       "      <th></th>\n",
       "      <th>Unnamed: 0</th>\n",
       "      <th>Hotel_Name</th>\n",
       "      <th>Positive_Review</th>\n",
       "    </tr>\n",
       "  </thead>\n",
       "  <tbody>\n",
       "    <tr>\n",
       "      <th>0</th>\n",
       "      <td>0</td>\n",
       "      <td>Hotel Arena</td>\n",
       "      <td>Only the park outside of the hotel was beauti...</td>\n",
       "    </tr>\n",
       "    <tr>\n",
       "      <th>1</th>\n",
       "      <td>1</td>\n",
       "      <td>Hotel Arena</td>\n",
       "      <td>No real complaints the hotel was great great ...</td>\n",
       "    </tr>\n",
       "    <tr>\n",
       "      <th>2</th>\n",
       "      <td>2</td>\n",
       "      <td>Hotel Arena</td>\n",
       "      <td>Location was good and staff were ok It is cut...</td>\n",
       "    </tr>\n",
       "  </tbody>\n",
       "</table>\n",
       "</div>"
      ],
      "text/plain": [
       "   Unnamed: 0   Hotel_Name                                    Positive_Review\n",
       "0           0  Hotel Arena   Only the park outside of the hotel was beauti...\n",
       "1           1  Hotel Arena   No real complaints the hotel was great great ...\n",
       "2           2  Hotel Arena   Location was good and staff were ok It is cut..."
      ]
     },
     "execution_count": 4,
     "metadata": {},
     "output_type": "execute_result"
    }
   ],
   "source": [
    "import pandas as pd       \n",
    "train = pd.read_csv(\"hp.csv\", header=0)#, \\\n",
    "                    #delimiter=\",\", quoting=3)\n",
    "train = train[pd.notnull(train[\"Positive_Review\"])]\n",
    "train = train[pd.notnull(train[\"Hotel_Name\"])]\n",
    "#train=train.reset_index(drop=True)\n",
    "train.head(3)"
   ]
  },
  {
   "cell_type": "code",
   "execution_count": 5,
   "metadata": {},
   "outputs": [
    {
     "data": {
      "text/html": [
       "<div>\n",
       "<style scoped>\n",
       "    .dataframe tbody tr th:only-of-type {\n",
       "        vertical-align: middle;\n",
       "    }\n",
       "\n",
       "    .dataframe tbody tr th {\n",
       "        vertical-align: top;\n",
       "    }\n",
       "\n",
       "    .dataframe thead th {\n",
       "        text-align: right;\n",
       "    }\n",
       "</style>\n",
       "<table border=\"1\" class=\"dataframe\">\n",
       "  <thead>\n",
       "    <tr style=\"text-align: right;\">\n",
       "      <th></th>\n",
       "      <th>Unnamed: 0</th>\n",
       "      <th>old_ind</th>\n",
       "      <th>Hotel_Name</th>\n",
       "      <th>Average_Score</th>\n",
       "    </tr>\n",
       "  </thead>\n",
       "  <tbody>\n",
       "    <tr>\n",
       "      <th>0</th>\n",
       "      <td>0</td>\n",
       "      <td>0</td>\n",
       "      <td>Hotel Arena</td>\n",
       "      <td>7.7</td>\n",
       "    </tr>\n",
       "    <tr>\n",
       "      <th>1</th>\n",
       "      <td>1</td>\n",
       "      <td>405</td>\n",
       "      <td>K K Hotel George</td>\n",
       "      <td>8.5</td>\n",
       "    </tr>\n",
       "    <tr>\n",
       "      <th>2</th>\n",
       "      <td>2</td>\n",
       "      <td>971</td>\n",
       "      <td>Apex Temple Court Hotel</td>\n",
       "      <td>9.2</td>\n",
       "    </tr>\n",
       "  </tbody>\n",
       "</table>\n",
       "</div>"
      ],
      "text/plain": [
       "   Unnamed: 0  old_ind               Hotel_Name  Average_Score\n",
       "0           0        0              Hotel Arena            7.7\n",
       "1           1      405         K K Hotel George            8.5\n",
       "2           2      971  Apex Temple Court Hotel            9.2"
      ]
     },
     "execution_count": 5,
     "metadata": {},
     "output_type": "execute_result"
    }
   ],
   "source": [
    "hotel = pd.read_csv(\"hotel_list.csv\", header=0)\n",
    "hotel.head(3)"
   ]
  },
  {
   "cell_type": "code",
   "execution_count": 11,
   "metadata": {
    "collapsed": true
   },
   "outputs": [],
   "source": [
    "# Import various modules for string cleaning\n",
    "from bs4 import BeautifulSoup\n",
    "import re\n",
    "from nltk.corpus import stopwords\n",
    "from nltk.corpus import wordnet\n",
    "from nltk.stem.wordnet import WordNetLemmatizer\n",
    "\n",
    "def get_wordnet_pos(treebank_tag):\n",
    "\n",
    "    if treebank_tag.startswith('J'):\n",
    "        return wordnet.ADJ\n",
    "    elif treebank_tag.startswith('V'):\n",
    "        return wordnet.VERB\n",
    "    elif treebank_tag.startswith('N'):\n",
    "        return wordnet.NOUN\n",
    "    elif treebank_tag.startswith('R'):\n",
    "        return wordnet.ADV\n",
    "    else:\n",
    "        return None # for easy if-statement \n",
    "\n",
    "def review_to_words( raw_review ):\n",
    "    # Function to convert a raw review to a string of words\n",
    "    # The input is a single string (a raw movie review), and \n",
    "    # the output is a single string (a preprocessed movie review)\n",
    "    #\n",
    "    # 1. Remove HTML\n",
    "    #review_text = BeautifulSoup(raw_review).get_text() \n",
    "    #\n",
    "    # 2. Remove non-letters        \n",
    "    letters_only = re.sub(\"[^a-zA-Z]\", \" \", raw_review) \n",
    "    #\n",
    "    # 3. Convert to lower case, split into individual words\n",
    "    words = letters_only.lower().split()                             \n",
    "    #\n",
    "    # 4. In Python, searching a set is much faster than searching\n",
    "    #   a list, so convert the stop words to a set\n",
    "    stops = set(stopwords.words(\"english\"))                  \n",
    "    # \n",
    "    # 5. Remove stop words\n",
    "    meaningful_words = [w for w in words if not w in stops]   \n",
    "        # 5. WordNetLemmatize\n",
    "    wnl = WordNetLemmatizer()\n",
    "    tagged = nltk.pos_tag(meaningful_words)\n",
    "    w7=meaningful_words\n",
    "    for i in range(len(meaningful_words)):\n",
    "        wntag = get_wordnet_pos(tagged[i][1])\n",
    "        if wntag is None:# not supply tag in case of None\n",
    "            lemma = wnl.lemmatize(meaningful_words[i]) \n",
    "        else:\n",
    "            lemma = wnl.lemmatize(meaningful_words[i], pos=wntag) \n",
    "        meaningful_words[i]=lemma\n",
    "    #\n",
    "    # 6. Join the words back into one string separated by space, \n",
    "    # and return the result.\n",
    "    return( \" \".join( meaningful_words ))   "
   ]
  },
  {
   "cell_type": "code",
   "execution_count": 14,
   "metadata": {},
   "outputs": [
    {
     "name": "stdout",
     "output_type": "stream",
     "text": [
      "real complaint hotel great great location surroundings room amenity service two recommendation however firstly staff upon check confuse regard deposit payment staff offer upon checkout refund original payment make new one bit confuse secondly site restaurant bit lack well think excellent quality food anyone vegetarian vegan background even wrap toast sandwich option would great aside minor minor thing fantastic spot back return amsterdam\n"
     ]
    }
   ],
   "source": [
    "clean_review = review_to_words( train[\"Positive_Review\"][1] )\n",
    "print (clean_review)"
   ]
  },
  {
   "cell_type": "code",
   "execution_count": 15,
   "metadata": {},
   "outputs": [
    {
     "data": {
      "text/plain": [
       "' No real complaints the hotel was great great location surroundings rooms amenities and service Two recommendations however firstly the staff upon check in are very confusing regarding deposit payments and the staff offer you upon checkout to refund your original payment and you can make a new one Bit confusing Secondly the on site restaurant is a bit lacking very well thought out and excellent quality food for anyone of a vegetarian or vegan background but even a wrap or toasted sandwich option would be great Aside from those minor minor things fantastic spot and will be back when i return to Amsterdam '"
      ]
     },
     "execution_count": 15,
     "metadata": {},
     "output_type": "execute_result"
    }
   ],
   "source": [
    "train[\"Positive_Review\"][1]"
   ]
  },
  {
   "cell_type": "code",
   "execution_count": 17,
   "metadata": {},
   "outputs": [
    {
     "name": "stdout",
     "output_type": "stream",
     "text": [
      "Review 100 of 405\n",
      "\n",
      "Review 200 of 405\n",
      "\n",
      "Review 300 of 405\n",
      "\n",
      "Review 400 of 405\n",
      "\n"
     ]
    }
   ],
   "source": [
    "import numpy as np\n",
    "import pandas as pd       \n",
    "\n",
    "train = pd.read_csv(\"hp.csv\", header=0)\n",
    "train = train[pd.notnull(train[\"Positive_Review\"])]\n",
    "train = train[pd.notnull(train[\"Hotel_Name\"])]\n",
    "# Get the number of reviews based on the dataframe column size\n",
    "num_reviews = 405#train[\"reviews.text\"].size\n",
    "\n",
    "# Initialize an empty list to hold the clean reviews\n",
    "clean_train_reviews = []\n",
    "\n",
    "# Loop over each review; create an index i that goes from 0 to the length\n",
    "# of the movie review list \n",
    "for i in range( 0, num_reviews ):\n",
    "    # Call our function for each one, and add the result to the list of\n",
    "    # clean reviews\n",
    "    # If the index is evenly divisible by 100, print a message\n",
    "    if( (i+1)%100 == 0 ):\n",
    "        print (\"Review %d of %d\\n\" % ( i+1, num_reviews )  )                                                                  \n",
    "    clean_train_reviews.append( review_to_words( train[\"Positive_Review\"][i] ))"
   ]
  },
  {
   "cell_type": "code",
   "execution_count": 18,
   "metadata": {},
   "outputs": [
    {
     "name": "stdout",
     "output_type": "stream",
     "text": [
      "Creating the bag of words...\n",
      "\n",
      "(405, 1090)\n",
      "int64\n"
     ]
    }
   ],
   "source": [
    "print (\"Creating the bag of words...\\n\")\n",
    "from sklearn.feature_extraction.text import CountVectorizer\n",
    "\n",
    "# Initialize the \"CountVectorizer\" object, which is scikit-learn's\n",
    "# bag of words tool.  \n",
    "vectorizer = CountVectorizer(analyzer = \"word\",   \\\n",
    "                             tokenizer = None,    \\\n",
    "                             preprocessor = None, \\\n",
    "                             stop_words = None,   \\\n",
    "                             max_features = 5000) \n",
    "\n",
    "# fit_transform() does two functions: First, it fits the model\n",
    "# and learns the vocabulary; second, it transforms our training data\n",
    "# into feature vectors. The input to fit_transform should be a list of \n",
    "# strings.\n",
    "train_data_features = vectorizer.fit_transform(clean_train_reviews)\n",
    "\n",
    "# Numpy arrays are easy to work with, so convert the result to an \n",
    "# array\n",
    "train_data_features = train_data_features.toarray()\n",
    "\n",
    "print (train_data_features.shape)\n",
    "print (train_data_features.dtype)"
   ]
  },
  {
   "cell_type": "code",
   "execution_count": 19,
   "metadata": {},
   "outputs": [
    {
     "name": "stdout",
     "output_type": "stream",
     "text": [
      "[u'ability', u'absolutely', u'access', u'accessibility', u'accessible', u'accommodate', u'accommodation', u'actually', u'add', u'adjacent', u'adorable', u'advice', u'advise', u'age', u'agreeable', u'air', u'airport', u'airy', u'allow', u'almost', u'alongside', u'already', u'also', u'although', u'always', u'amaze', u'amazing', u'amazingly', u'ambience', u'amenity', u'american', u'amsterdam', u'another', u'ansterdams', u'answer', u'anyone', u'anything', u'anyways', u'anywhere', u'appreciate', u'appreciation', u'architecturally', u'architecture', u'area', u'arena', u'arenaaa', u'arent', u'argument', u'around', u'arrange', u'arrival', u'arrive', u'arrived', u'art', u'artsy', u'artwork', u'aside', u'ask', u'assume', u'athmosphere', u'atmosphere', u'attention', u'attentive', u'attic', u'attraction', u'available', u'average', u'avoid', u'away', u'awesome', u'awful', u'axcess', u'back', u'background', u'bacon', u'bad', u'bake', u'bakery', u'balloon', u'bar', u'basically', u'basrs', u'batch', u'bath', u'bathroom', u'bathtub', u'beaten', u'beautiful', u'beautifull', u'beautifully', u'beauty', u'bed', u'bedroom', u'bedsheets', u'bedside', u'beer', u'begin', u'beside', u'best', u'beutiful', u'bicycle', u'big', u'bike', u'bird', u'birthday', u'bit', u'black', u'board', u'bobby', u'body', u'bonus', u'book', u'bottle', u'boufett', u'boutique', u'boyfriend', u'bread', u'breakbast', u'breakfast', u'brewery', u'bright', u'brilliant', u'brilliantly', u'brit', u'broken', u'brunch', u'buffet', u'buiding', u'build', u'buildig', u'building', u'bulding', u'burger', u'business', u'bussle', u'busy', u'buy', u'ca', u'cafe', u'canal', u'cannot', u'capacity', u'car', u'card', u'care', u'ceiling', u'ceilings', u'center', u'centraal', u'central', u'centre', u'cereal', u'certain', u'certainly', u'ch', u'chain', u'chair', u'champagne', u'chance', u'chandelier', u'change', u'channel', u'chapel', u'character', u'charm', u'chatty', u'cheap', u'check', u'checkout', u'cheer', u'cheerful', u'chic', u'chill', u'chocolate', u'choice', u'choose', u'church', u'city', u'classy', u'clean', u'cleanliness', u'clearly', u'close', u'closet', u'clothe', u'cloud', u'club', u'coffe', u'coffee', u'coffeeshop', u'cold', u'combine', u'come', u'comfey', u'comfirtable', u'comfort', u'comfortable', u'comfy', u'company', u'compensate', u'complain', u'complaint', u'complants', u'complete', u'completely', u'complimentary', u'computer', u'con', u'concept', u'concert', u'confortable', u'confuse', u'congratulation', u'connoisseur', u'consider', u'consolation', u'construction', u'continental', u'convenience', u'convenient', u'conveniently', u'convent', u'conversation', u'convert', u'convienent', u'cook', u'cool', u'cosy', u'could', u'couple', u'course', u'court', u'courteous', u'courtyard', u'cozy', u'crew', u'croissant', u'croqettes', u'culinary', u'cup', u'currently', u'customer', u'cute', u'cycle', u'daily', u'dam', u'damn', u'dark', u'day', u'deco', u'decor', u'decorate', u'decoration', u'definable', u'definately', u'definitely', u'delicious', u'delightful', u'delivery', u'deluxe', u'depend', u'deposit', u'design', u'desk', u'despite', u'detail', u'development', u'die', u'difference', u'different', u'difficulty', u'din', u'dine', u'dining', u'dinner', u'direct', u'direction', u'directly', u'disappointed', u'discount', u'dish', u'disrupt', u'disruption', u'distance', u'district', u'do', u'dodgy', u'door', u'double', u'downstairs', u'drain', u'draw', u'drink', u'dryer', u'duck', u'due', u'duplex', u'duvet', u'early', u'easiest', u'easily', u'east', u'easy', u'eat', u'eaten', u'eatery', u'edge', u'egg', u'element', u'else', u'email', u'encharged', u'encounter', u'engage', u'engaged', u'english', u'enjoy', u'enjoyed', u'enormous', u'enough', u'enter', u'environment', u'equip', u'equipped', u'especially', u'etc', u'euro', u'euros', u'even', u'evening', u'ever', u'everyday', u'everyone', u'everything', u'everywhere', u'exactly', u'excelelnt', u'excellant', u'excellent', u'excellentbed', u'except', u'exceptional', u'exceptionally', u'expand', u'expect', u'expensive', u'experience', u'explore', u'exquisite', u'extention', u'exterior', u'extra', u'extremely', u'extrememly', u'fab', u'fabulous', u'facility', u'fact', u'fail', u'fair', u'fairly', u'familiarize', u'fan', u'fantastic', u'fantastically', u'far', u'fast', u'fault', u'faulty', u'feather', u'feature', u'feel', u'felt', u'fern', u'fi', u'filling', u'final', u'find', u'fine', u'finish', u'fir', u'first', u'firstly', u'fish', u'fix', u'floor', u'food', u'foot', u'footprint', u'former', u'forward', u'fray', u'free', u'freebie', u'frequent', u'fresh', u'fridge', u'friend', u'friendly', u'front', u'fruit', u'full', u'fully', u'funky', u'furhthermore', u'garden', u'general', u'generally', u'gentle', u'gesture', u'get', u'gigantic', u'gin', u'girl', u'give', u'glass', u'gloss', u'go', u'good', u'gorgeous', u'gothic', u'grand', u'grateful', u'great', u'green', u'greenery', u'grocery', u'ground', u'guest', u'guy', u'hair', u'half', u'hall', u'hand', u'handle', u'hanger', u'happily', u'happy', u'hard', u'hassle', u'hat', u'head', u'healpful', u'health', u'hear', u'heaven', u'hectic', u'heineken', u'help', u'helpful', u'herb', u'high', u'highly', u'hind', u'hint', u'historic', u'history', u'hold', u'holder', u'home', u'honestly', u'hospital', u'hot', u'hotel', u'hour', u'house', u'however', u'hub', u'huge', u'hussle', u'idea', u'identy', u'imagine', u'immediate', u'immediately', u'impact', u'impeccable', u'impersonal', u'important', u'impossible', u'impress', u'impressive', u'improve', u'improved', u'include', u'included', u'inconvenience', u'incredible', u'incredibly', u'individual', u'indoors', u'infront', u'inside', u'institution', u'interest', u'interested', u'interesting', u'interestingly', u'interior', u'invest', u'inviting', u'ireland', u'iron', u'ish', u'isolation', u'issue', u'job', u'jogger', u'juice', u'justice', u'keen', u'keep', u'kept', u'kettle', u'kind', u'kingsize', u'kitchen', u'km', u'know', u'knowledgeable', u'lack', u'lacklustre', u'laminate', u'lamp', u'large', u'last', u'late', u'launch', u'lay', u'layout', u'lead', u'least', u'leave', u'leidseplein', u'less', u'level', u'life', u'light', u'like', u'liked', u'limited', u'line', u'link', u'literally', u'little', u'live', u'living', u'load', u'lobby', u'local', u'localted', u'locate', u'location', u'loctation', u'loft', u'long', u'look', u'looked', u'lot', u'lots', u'lounge', u'love', u'loved', u'lovely', u'lunch', u'lush', u'lushly', u'luxurious', u'luxury', u'magnificent', u'main', u'major', u'make', u'man', u'manage', u'management', u'manager', u'many', u'map', u'massive', u'massively', u'matress', u'mattress', u'maybe', u'meal', u'mean', u'meant', u'meantime', u'meanwhile', u'meat', u'medical', u'meeting', u'memorable', u'menu', u'metro', u'mezzanine', u'middle', u'might', u'min', u'mind', u'mine', u'mini', u'minimal', u'minimalist', u'minor', u'mins', u'minute', u'mix', u'moderisation', u'modern', u'modernise', u'moment', u'monastery', u'money', u'mood', u'morning', u'move', u'much', u'multiple', u'museum', u'museums', u'nail', u'nature', u'near', u'nearby', u'need', u'needed', u'neighborhood', u'neighbourhood', u'never', u'new', u'next', u'nice', u'nicely', u'night', u'noise', u'noisy', u'normal', u'nothing', u'notice', u'number', u'oc', u'offer', u'often', u'ok', u'old', u'one', u'ongoing', u'online', u'onsite', u'onto', u'oosterpark', u'oostpark', u'open', u'opinion', u'opinnion', u'opposite', u'option', u'orange', u'order', u'organise', u'original', u'orphan', u'orphanage', u'ostpark', u'oth', u'outdoor', u'outside', u'outskirt', u'outstanding', u'outstandingly', u'overall', u'overcome', u'overlook', u'overly', u'pad', u'paint', u'pan', u'parc', u'park', u'part', u'particular', u'particularly', u'partner', u'party', u'pass', u'past', u'pastry', u'path', u'patio', u'pay', u'payment', u'peaceful', u'people', u'per', u'perfect', u'perfectly', u'perhaps', u'personally', u'personnel', u'picnic', u'picture', u'pillow', u'pity', u'pizza', u'place', u'placement', u'plain', u'plan', u'pleasant', u'pleasnt', u'plentiful', u'plenty', u'plus', u'pm', u'poi', u'polite', u'politely', u'pond', u'posh', u'positive', u'possibility', u'possible', u'possibly', u'potential', u'powerful', u'prefer', u'preferred', u'premise', u'pressure', u'pretty', u'previous', u'price', u'pricey', u'printer', u'priority', u'probably', u'problem', u'process', u'product', u'professional', u'progress', u'proof', u'property', u'proud', u'provide', u'provided', u'provision', u'proximity', u'public', u'purchase', u'purpose', u'qualify', u'quality', u'question', u'quick', u'quickly', u'quiet', u'quirky', u'quite', u'rabbit', u'ramp', u'range', u'rather', u'reach', u'ready', u'real', u'realize', u'really', u'reason', u'reasonably', u'receive', u'recepction', u'reception', u'receptionist', u'recieved', u'recognise', u'recommend', u'recommendation', u'reconstruction', u'red', u'refebishment', u'refund', u'refurbish', u'refurbishment', u'regard', u'regular', u'relate', u'relation', u'relative', u'relax', u'relaxed', u'relaxing', u'relevant', u'rembrandtplein', u'renovate', u'renovation', u'rent', u'rental', u'replicate', u'request', u'requested', u'responsive', u'rest', u'restaurant', u'restraint', u'return', u'revamp', u'review', u'ride', u'right', u'rip', u'river', u'romantic', u'room', u'round', u'run', u'safe', u'salmon', u'sander', u'sandwich', u'sausage', u'say', u'secondly', u'see', u'seem', u'select', u'selection', u'self', u'sell', u'sense', u'separate', u'separation', u'service', u'set', u'setting', u'setup', u'several', u'shampoo', u'sharing', u'shock', u'shop', u'short', u'shortcoming', u'show', u'shower', u'side', u'sight', u'silent', u'sill', u'similar', u'simply', u'sin', u'since', u'sincirely', u'sink', u'sister', u'sit', u'site', u'situate', u'size', u'sleek', u'sleep', u'slept', u'small', u'smart', u'smell', u'smelt', u'smile', u'smoke', u'snack', u'soap', u'sock', u'sofa', u'someone', u'something', u'sort', u'sound', u'space', u'spacious', u'span', u'spanish', u'speak', u'special', u'specialty', u'spectacular', u'speed', u'split', u'spoken', u'spot', u'spotlessly', u'spread', u'spring', u'square', u'staff', u'stair', u'staircase', u'staircases', u'stairs', u'standard', u'star', u'start', u'state', u'station', u'stay', u'stayed', u'steep', u'step', u'stick', u'still', u'stood', u'stop', u'stops', u'store', u'storeyed', u'straight', u'stroll', u'strong', u'structure', u'struggle', u'studio', u'stun', u'stunning', u'stunningly', u'style', u'stylish', u'stylishly', u'subway', u'suggest', u'suit', u'suite', u'summer', u'super', u'superb', u'supper', u'supplier', u'sure', u'surprise', u'surround', u'surroundings', u'swap', u'sweet', u'system', u'table', u'take', u'talk', u'taseful', u'taste', u'tasty', u'taxi', u'tea', u'teas', u'television', u'tell', u'temperature', u'ten', u'tennis', u'terasse', u'term', u'terrace', u'terras', u'terrific', u'th', u'thai', u'thank', u'thankful', u'thankfully', u'thing', u'think', u'though', u'three', u'throuout', u'thumb', u'ticket', u'tidy', u'till', u'time', u'tiny', u'toast', u'together', u'tomato', u'tonic', u'tonthe', u'top', u'touch', u'tour', u'tourism', u'tourist', u'towel', u'town', u'traditinal', u'train', u'tram', u'trams', u'transport', u'transportation', u'trap', u'travel', u'travelled', u'treat', u'trendy', u'trip', u'trouble', u'true', u'trully', u'truly', u'try', u'tub', u'tv', u'twist', u'two', u'type', u'typical', u'un', u'unbelievably', u'undercooked', u'undergone', u'underway', u'unfinished', u'unfortunately', u'unhelpful', u'unique', u'uniquely', u'university', u'unusual', u'upcoming', u'upgrade', u'upgraded', u'upgrading', u'upheaval', u'upon', u'upstairs', u'use', u'usual', u'value', u'variety', u'veal', u'vegan', u'vegetarian', u'venue', u'vey', u'vibe', u'vicinity', u'view', u'visit', u'voucher', u'wait', u'wake', u'walk', u'walkable', u'wall', u'wander', u'want', u'wanted', u'wardrobe', u'warm', u'wash', u'water', u'way', u'wc', u'wedding', u'week', u'welcome', u'well', u'whilst', u'white', u'whole', u'wi', u'wife', u'wifi', u'willing', u'window', u'wing', u'wish', u'within', u'without', u'wonderful', u'wooden', u'work', u'world', u'worn', u'worry', u'woukd', u'would', u'wrap', u'wrought', u'yard', u'yogurt', u'young', u'zoo']\n"
     ]
    }
   ],
   "source": [
    "# Take a look at the words in the vocabulary\n",
    "vocab = vectorizer.get_feature_names()\n",
    "print (vocab)"
   ]
  },
  {
   "cell_type": "code",
   "execution_count": 41,
   "metadata": {},
   "outputs": [
    {
     "name": "stdout",
     "output_type": "stream",
     "text": [
      "[u'beautiful', u'bed', u'comfortable', u'friendly', u'good', u'great', u'helpful', u'hotel', u'location', u'nice', u'park', u'room', u'staff']\n"
     ]
    }
   ],
   "source": [
    "import numpy as np\n",
    "\n",
    "# Sum up the counts of each vocabulary word\n",
    "dist = np.sum(train_data_features, axis=0)\n",
    "df = []\n",
    "# For each, print the vocabulary word and the number of times it \n",
    "# appears in the training set\n",
    "for tag, count in zip(vocab, dist):\n",
    "    #print (count, tag)\n",
    "    if count>50:\n",
    "        #print (count, tag)\n",
    "        #tmp=[count, tag]\n",
    "        df.append(tag)\n",
    "print (df)    "
   ]
  },
  {
   "cell_type": "code",
   "execution_count": 68,
   "metadata": {},
   "outputs": [
    {
     "name": "stdout",
     "output_type": "stream",
     "text": [
      "(100, '. Creating the bag of words...\\n')\n",
      "(200, '. Creating the bag of words...\\n')\n",
      "(300, '. Creating the bag of words...\\n')\n",
      "(400, '. Creating the bag of words...\\n')\n",
      "(500, '. Creating the bag of words...\\n')\n",
      "(600, '. Creating the bag of words...\\n')\n",
      "(700, '. Creating the bag of words...\\n')\n",
      "(800, '. Creating the bag of words...\\n')\n",
      "(900, '. Creating the bag of words...\\n')\n",
      "(1000, '. Creating the bag of words...\\n')\n",
      "(1100, '. Creating the bag of words...\\n')\n",
      "(1200, '. Creating the bag of words...\\n')\n",
      "(1300, '. Creating the bag of words...\\n')\n",
      "(1400, '. Creating the bag of words...\\n')\n",
      "Done~\n"
     ]
    },
    {
     "name": "stderr",
     "output_type": "stream",
     "text": [
      "/home/rl/anaconda2/lib/python2.7/site-packages/ipykernel_launcher.py:70: SettingWithCopyWarning: \n",
      "A value is trying to be set on a copy of a slice from a DataFrame\n",
      "\n",
      "See the caveats in the documentation: http://pandas.pydata.org/pandas-docs/stable/indexing.html#indexing-view-versus-copy\n"
     ]
    }
   ],
   "source": [
    "import numpy as np\n",
    "import pandas as pd       \n",
    "from sklearn.feature_extraction.text import CountVectorizer\n",
    "\n",
    "train = pd.read_csv(\"hp.csv\", header=0)\n",
    "train = train[pd.notnull(train[\"Positive_Review\"])]\n",
    "train = train[pd.notnull(train[\"Hotel_Name\"])]\n",
    "# Get the number of reviews based on the dataframe column size\n",
    "hotel=pd.read_csv(\"hotel_list.csv\", header=0)\n",
    "ss=[]\n",
    "for j in range(1,len(hotel['Hotel_Name'])):\n",
    "    num_reviews2 = hotel['old_ind'][j]\n",
    "    num_reviews1 = hotel['old_ind'][j-1]\n",
    "    #print(num_reviews2)\n",
    "    # Initialize an empty list to hold the clean reviews\n",
    "    clean_train_reviews = []\n",
    "\n",
    "    # Loop over each review; create an index i that goes from 0 to the length\n",
    "    # of the movie review list \n",
    "    for i in range( num_reviews1, num_reviews2 ):\n",
    "    # Call our function for each one, and add the result to the list of\n",
    "    # clean reviews\n",
    "    # If the index is evenly divisible by 100, print a message\n",
    "        #if( (i+1)%100 == 0 ):\n",
    "            #print (\"Review %d of %d\\n\" % ( i+1, num_reviews )  )                                                                  \n",
    "        clean_train_reviews.append( review_to_words( train[\"Positive_Review\"][i] ))\n",
    "    if ( j%100 == 0 ):\n",
    "        print (j,\". Creating the bag of words...\\n\")\n",
    "\n",
    "    # Initialize the \"CountVectorizer\" object, which is scikit-learn's\n",
    "    # bag of words tool.  \n",
    "    vectorizer = CountVectorizer(analyzer = \"word\",   \\\n",
    "                                 tokenizer = None,    \\\n",
    "                                 preprocessor = None, \\\n",
    "                                 stop_words = None,   \\\n",
    "                                 max_features = 5000) \n",
    "\n",
    "    # fit_transform() does two functions: First, it fits the model\n",
    "    # and learns the vocabulary; second, it transforms our training data\n",
    "    # into feature vectors. The input to fit_transform should be a list of \n",
    "    # strings.\n",
    "    train_data_features = vectorizer.fit_transform(clean_train_reviews)\n",
    "\n",
    "    # Numpy arrays are easy to work with, so convert the result to an \n",
    "    # array\n",
    "    train_data_features = train_data_features.toarray()\n",
    "    # Take a look at the words in the vocabulary\n",
    "    vocab = vectorizer.get_feature_names()\n",
    "    # Sum up the counts of each vocabulary word\n",
    "    dist = np.sum(train_data_features, axis=0)\n",
    "    df = []\n",
    "    df2=[]\n",
    "    marker=0\n",
    "    # For each, print the vocabulary word and the number of times it \n",
    "    # appears in the training set\n",
    "    for tag, count in zip(vocab, dist):\n",
    "        #print (count, tag)\n",
    "        if count>50:\n",
    "            #print (count, tag)\n",
    "            #tmp=[count, tag]\n",
    "            df.append(tag)\n",
    "            marker=1\n",
    "        elif count>25:\n",
    "            df2.append(tag)\n",
    "    \n",
    "    #print (df) \n",
    "    if marker==1:\n",
    "        ss.append(df)\n",
    "    else:\n",
    "        ss.append(df2) \n",
    "#print(ss)\n",
    "hotel2=hotel\n",
    "hotel2[\"key\"]=hotel2[\"Hotel_Name\"]\n",
    "hotel2[\"key\"][:1492]=ss\n",
    "print(\"Done~\")"
   ]
  },
  {
   "cell_type": "code",
   "execution_count": 63,
   "metadata": {},
   "outputs": [
    {
     "data": {
      "text/plain": [
       "1493"
      ]
     },
     "execution_count": 63,
     "metadata": {},
     "output_type": "execute_result"
    }
   ],
   "source": [
    "hotel2=hotel\n",
    "len(hotel2[\"Average_Score\"])"
   ]
  },
  {
   "cell_type": "code",
   "execution_count": 70,
   "metadata": {},
   "outputs": [
    {
     "data": {
      "text/html": [
       "<div>\n",
       "<style scoped>\n",
       "    .dataframe tbody tr th:only-of-type {\n",
       "        vertical-align: middle;\n",
       "    }\n",
       "\n",
       "    .dataframe tbody tr th {\n",
       "        vertical-align: top;\n",
       "    }\n",
       "\n",
       "    .dataframe thead th {\n",
       "        text-align: right;\n",
       "    }\n",
       "</style>\n",
       "<table border=\"1\" class=\"dataframe\">\n",
       "  <thead>\n",
       "    <tr style=\"text-align: right;\">\n",
       "      <th></th>\n",
       "      <th>Unnamed: 0</th>\n",
       "      <th>old_ind</th>\n",
       "      <th>Hotel_Name</th>\n",
       "      <th>Average_Score</th>\n",
       "      <th>key</th>\n",
       "    </tr>\n",
       "  </thead>\n",
       "  <tbody>\n",
       "    <tr>\n",
       "      <th>10</th>\n",
       "      <td>10</td>\n",
       "      <td>7743</td>\n",
       "      <td>Hotel Trianon Rive Gauche</td>\n",
       "      <td>8.2</td>\n",
       "      <td>[good, great, hotel, location, room, staff]</td>\n",
       "    </tr>\n",
       "    <tr>\n",
       "      <th>11</th>\n",
       "      <td>11</td>\n",
       "      <td>7961</td>\n",
       "      <td>InterContinental London Park Lane</td>\n",
       "      <td>8.5</td>\n",
       "      <td>[location, staff]</td>\n",
       "    </tr>\n",
       "    <tr>\n",
       "      <th>12</th>\n",
       "      <td>12</td>\n",
       "      <td>8121</td>\n",
       "      <td>Novotel Suites Paris Nord 18 me</td>\n",
       "      <td>7.4</td>\n",
       "      <td>[room]</td>\n",
       "    </tr>\n",
       "    <tr>\n",
       "      <th>13</th>\n",
       "      <td>13</td>\n",
       "      <td>8301</td>\n",
       "      <td>Grand Royale London Hyde Park</td>\n",
       "      <td>7.7</td>\n",
       "      <td>[also, area, around, bar, bathroom, beautiful,...</td>\n",
       "    </tr>\n",
       "    <tr>\n",
       "      <th>14</th>\n",
       "      <td>14</td>\n",
       "      <td>11259</td>\n",
       "      <td>Milestone Hotel Kensington</td>\n",
       "      <td>9.5</td>\n",
       "      <td>[staff]</td>\n",
       "    </tr>\n",
       "    <tr>\n",
       "      <th>15</th>\n",
       "      <td>15</td>\n",
       "      <td>11345</td>\n",
       "      <td>Crowne Plaza London Kings Cross</td>\n",
       "      <td>8.1</td>\n",
       "      <td>[bathroom, bed, breakfast, clean, comfortable,...</td>\n",
       "    </tr>\n",
       "    <tr>\n",
       "      <th>16</th>\n",
       "      <td>16</td>\n",
       "      <td>12352</td>\n",
       "      <td>Select Hotel</td>\n",
       "      <td>8.9</td>\n",
       "      <td>[good, great, hotel, location, room, staff]</td>\n",
       "    </tr>\n",
       "    <tr>\n",
       "      <th>17</th>\n",
       "      <td>17</td>\n",
       "      <td>12608</td>\n",
       "      <td>H tel De Vend me</td>\n",
       "      <td>8.7</td>\n",
       "      <td>[location, staff]</td>\n",
       "    </tr>\n",
       "    <tr>\n",
       "      <th>18</th>\n",
       "      <td>18</td>\n",
       "      <td>12697</td>\n",
       "      <td>Pullman Paris Centre Bercy</td>\n",
       "      <td>8.7</td>\n",
       "      <td>[good, great, hotel, room, staff]</td>\n",
       "    </tr>\n",
       "    <tr>\n",
       "      <th>19</th>\n",
       "      <td>19</td>\n",
       "      <td>12921</td>\n",
       "      <td>Gardette Park Hotel</td>\n",
       "      <td>8.2</td>\n",
       "      <td>[good, hotel, location, nice, room, staff]</td>\n",
       "    </tr>\n",
       "  </tbody>\n",
       "</table>\n",
       "</div>"
      ],
      "text/plain": [
       "    Unnamed: 0  old_ind                         Hotel_Name  Average_Score  \\\n",
       "10          10     7743          Hotel Trianon Rive Gauche            8.2   \n",
       "11          11     7961  InterContinental London Park Lane            8.5   \n",
       "12          12     8121    Novotel Suites Paris Nord 18 me            7.4   \n",
       "13          13     8301      Grand Royale London Hyde Park            7.7   \n",
       "14          14    11259         Milestone Hotel Kensington            9.5   \n",
       "15          15    11345    Crowne Plaza London Kings Cross            8.1   \n",
       "16          16    12352                       Select Hotel            8.9   \n",
       "17          17    12608                   H tel De Vend me            8.7   \n",
       "18          18    12697         Pullman Paris Centre Bercy            8.7   \n",
       "19          19    12921                Gardette Park Hotel            8.2   \n",
       "\n",
       "                                                  key  \n",
       "10        [good, great, hotel, location, room, staff]  \n",
       "11                                  [location, staff]  \n",
       "12                                             [room]  \n",
       "13  [also, area, around, bar, bathroom, beautiful,...  \n",
       "14                                            [staff]  \n",
       "15  [bathroom, bed, breakfast, clean, comfortable,...  \n",
       "16        [good, great, hotel, location, room, staff]  \n",
       "17                                  [location, staff]  \n",
       "18                  [good, great, hotel, room, staff]  \n",
       "19         [good, hotel, location, nice, room, staff]  "
      ]
     },
     "execution_count": 70,
     "metadata": {},
     "output_type": "execute_result"
    }
   ],
   "source": [
    "hotel2[10:20]"
   ]
  },
  {
   "cell_type": "code",
   "execution_count": 71,
   "metadata": {
    "collapsed": true
   },
   "outputs": [],
   "source": [
    "hotel2.to_csv(\"hotel+tag2.csv\")"
   ]
  },
  {
   "cell_type": "code",
   "execution_count": null,
   "metadata": {
    "collapsed": true
   },
   "outputs": [],
   "source": []
  }
 ],
 "metadata": {
  "kernelspec": {
   "display_name": "Python 3",
   "language": "python",
   "name": "python3"
  },
  "language_info": {
   "codemirror_mode": {
    "name": "ipython",
    "version": 3
   },
   "file_extension": ".py",
   "mimetype": "text/x-python",
   "name": "python",
   "nbconvert_exporter": "python",
   "pygments_lexer": "ipython3",
   "version": "3.6.2"
  }
 },
 "nbformat": 4,
 "nbformat_minor": 2
}
